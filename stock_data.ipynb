{
 "cells": [
  {
   "cell_type": "code",
   "execution_count": 47,
   "metadata": {},
   "outputs": [],
   "source": [
    "import os\n",
    "import requests\n",
    "from pyspark.sql.functions import lit\n",
    "from pyspark.sql import SparkSession, functions as f"
   ]
  },
  {
   "cell_type": "code",
   "execution_count": 48,
   "metadata": {},
   "outputs": [],
   "source": [
    "from dotenv import load_dotenv\n",
    "load_dotenv()\n",
    "key=os.environ.get(\"KEY\")\n",
    "spark = SparkSession.builder.getOrCreate()"
   ]
  },
  {
   "cell_type": "markdown",
   "metadata": {},
   "source": [
    "Amazon.com Inc (AMZN)"
   ]
  },
  {
   "cell_type": "code",
   "execution_count": 49,
   "metadata": {},
   "outputs": [
    {
     "name": "stdout",
     "output_type": "stream",
     "text": [
      "+-----+-----+-----+-----+--------------+\n",
      "| open| high|  low|close|  company_name|\n",
      "+-----+-----+-----+-----+--------------+\n",
      "|85.52|85.68|82.25|83.79|Amazon.com Inc|\n",
      "+-----+-----+-----+-----+--------------+\n",
      "\n"
     ]
    }
   ],
   "source": [
    "symbol = 'AMZN'\n",
    "url = f'https://www.alphavantage.co/query?function=TIME_SERIES_DAILY_ADJUSTED&symbol={symbol}&apikey={key}'\n",
    "r = requests.get(url)\n",
    "data = [r.json()]\n",
    "\n",
    "company_name = 'Amazon.com Inc'\n",
    "rdd = spark.sparkContext.parallelize(data)\n",
    "df = spark.read.json(rdd)\n",
    "clean_data = df.select(f.col(\"Time Series (Daily).2022-12-22.`1. open`\"), \\\n",
    "            f.col(\"Time Series (Daily).2022-12-22.`2. high`\"), \\\n",
    "            f.col(\"Time Series (Daily).2022-12-22.`3. low`\"), \\\n",
    "            f.col(\"Time Series (Daily).2022-12-22.`4. close`\"))\n",
    "\n",
    "add_company_col =clean_data.withColumn(\"company_name\", lit(company_name)) \\\n",
    "\n",
    "amzn_com_df = add_company_col.toDF(\"open\",\"high\",\"low\",\"close\",\"company_name\")\n",
    "amzn_com_df.show()"
   ]
  },
  {
   "cell_type": "code",
   "execution_count": 50,
   "metadata": {},
   "outputs": [
    {
     "name": "stdout",
     "output_type": "stream",
     "text": [
      "+-------+--------------+--------------+\n",
      "|PERatio|GrossProfitTTM|   companyname|\n",
      "+-------+--------------+--------------+\n",
      "|  76.12|  197478000000|Amazon.com Inc|\n",
      "+-------+--------------+--------------+\n",
      "\n"
     ]
    }
   ],
   "source": [
    "symbol = 'AMZN'\n",
    "url = f'https://www.alphavantage.co/query?function=OVERVIEW&symbol={symbol}&apikey={key}'\n",
    "r = requests.get(url)\n",
    "data = [r.json()]\n",
    "\n",
    "company_name = 'Amazon.com Inc'\n",
    "rdd = spark.sparkContext.parallelize(data)\n",
    "df = spark.read.json(rdd)\n",
    "clean_data = df.select(f.col(\"PERatio\"),f.col(\"GrossProfitTTM\"))\n",
    "add_company_col =clean_data.withColumn(\"company_name\", lit(company_name))\n",
    "amzn_com_df1 = add_company_col.toDF(\"PERatio\",\"GrossProfitTTM\",\"companyname\")\n",
    "amzn_com_df1.show()"
   ]
  },
  {
   "cell_type": "code",
   "execution_count": 51,
   "metadata": {},
   "outputs": [
    {
     "name": "stdout",
     "output_type": "stream",
     "text": [
      "+-----+-----+-----+-----+-----------------------+-------------------------------+--------------+\n",
      "|open |high |low  |close|PERatio_of_last_quarter|profit_margin_last_four_quaters|company_name  |\n",
      "+-----+-----+-----+-----+-----------------------+-------------------------------+--------------+\n",
      "|85.52|85.68|82.25|83.79|76.12                  |197478000000                   |Amazon.com Inc|\n",
      "+-----+-----+-----+-----+-----------------------+-------------------------------+--------------+\n",
      "\n"
     ]
    }
   ],
   "source": [
    "with_peratio=amzn_com_df.join(amzn_com_df1,amzn_com_df.company_name ==  amzn_com_df1.companyname,\"inner\")\n",
    "amzn_com=with_peratio.withColumnRenamed('PERatio', 'PERatio_of_last_quarter').withColumnRenamed('GrossProfitTTM', 'profit_margin_last_four_quaters')\n",
    "amzn_com.select('open','high','low','close','PERatio_of_last_quarter','profit_margin_last_four_quaters','company_name').show(truncate=False)"
   ]
  },
  {
   "cell_type": "markdown",
   "metadata": {},
   "source": [
    "Intel Corporation (INTC)"
   ]
  },
  {
   "cell_type": "code",
   "execution_count": 52,
   "metadata": {},
   "outputs": [
    {
     "name": "stdout",
     "output_type": "stream",
     "text": [
      "+-----+------+-----+-----+-----------------+\n",
      "| open|  high|  low|close|     company_name|\n",
      "+-----+------+-----+-----+-----------------+\n",
      "|26.45|26.452|25.35|25.97|Intel Corporation|\n",
      "+-----+------+-----+-----+-----------------+\n",
      "\n"
     ]
    }
   ],
   "source": [
    "symbol = 'INTC'\n",
    "url = f'https://www.alphavantage.co/query?function=TIME_SERIES_DAILY_ADJUSTED&symbol={symbol}&apikey={key}'\n",
    "r = requests.get(url)\n",
    "data = [r.json()]\n",
    "\n",
    "company_name = 'Intel Corporation'\n",
    "rdd = spark.sparkContext.parallelize(data)\n",
    "df = spark.read.json(rdd)\n",
    "clean_data = df.select(f.col(\"Time Series (Daily).2022-12-22.`1. open`\"), \\\n",
    "            f.col(\"Time Series (Daily).2022-12-22.`2. high`\"), \\\n",
    "            f.col(\"Time Series (Daily).2022-12-22.`3. low`\"), \\\n",
    "            f.col(\"Time Series (Daily).2022-12-22.`4. close`\"))\n",
    "\n",
    "add_company_col =clean_data.withColumn(\"company_name\", lit(company_name)) \\\n",
    "\n",
    "intel_com_df = add_company_col.toDF(\"open\",\"high\",\"low\",\"close\",\"company_name\")\n",
    "intel_com_df.show()"
   ]
  },
  {
   "cell_type": "code",
   "execution_count": 53,
   "metadata": {},
   "outputs": [
    {
     "name": "stdout",
     "output_type": "stream",
     "text": [
      "+-------+--------------+-----------------+\n",
      "|PERatio|GrossProfitTTM|      companyname|\n",
      "+-------+--------------+-----------------+\n",
      "|   8.08|   43815000000|Intel Corporation|\n",
      "+-------+--------------+-----------------+\n",
      "\n"
     ]
    }
   ],
   "source": [
    "symbol = 'INTC'\n",
    "url = f'https://www.alphavantage.co/query?function=OVERVIEW&symbol={symbol}&apikey={key}'\n",
    "r = requests.get(url)\n",
    "data = [r.json()]\n",
    "\n",
    "company_name = 'Intel Corporation'\n",
    "rdd = spark.sparkContext.parallelize(data)\n",
    "df = spark.read.json(rdd)\n",
    "clean_data = df.select(f.col(\"PERatio\"),f.col(\"GrossProfitTTM\"))\n",
    "add_company_col =clean_data.withColumn(\"company_name\", lit(company_name))\n",
    "intel_com_df1 = add_company_col.toDF(\"PERatio\",\"GrossProfitTTM\",\"companyname\")\n",
    "intel_com_df1.show()"
   ]
  },
  {
   "cell_type": "code",
   "execution_count": 54,
   "metadata": {},
   "outputs": [
    {
     "name": "stdout",
     "output_type": "stream",
     "text": [
      "+-----+------+-----+-----+-----------------------+-------------------------------+-----------------+\n",
      "|open |high  |low  |close|PERatio_of_last_quarter|profit_margin_last_four_quaters|company_name     |\n",
      "+-----+------+-----+-----+-----------------------+-------------------------------+-----------------+\n",
      "|26.45|26.452|25.35|25.97|8.08                   |43815000000                    |Intel Corporation|\n",
      "+-----+------+-----+-----+-----------------------+-------------------------------+-----------------+\n",
      "\n"
     ]
    },
    {
     "name": "stderr",
     "output_type": "stream",
     "text": [
      "                                                                                \r"
     ]
    }
   ],
   "source": [
    "with_peratio=intel_com_df.join(intel_com_df1,intel_com_df.company_name ==  intel_com_df1.companyname,\"inner\")\n",
    "intel_com=with_peratio.withColumnRenamed('PERatio', 'PERatio_of_last_quarter').withColumnRenamed('GrossProfitTTM', 'profit_margin_last_four_quaters')\n",
    "intel_com.select('open','high','low','close','PERatio_of_last_quarter','profit_margin_last_four_quaters','company_name').show(truncate=False)"
   ]
  },
  {
   "cell_type": "markdown",
   "metadata": {},
   "source": [
    "JPMorgan Chase & Co (JPM)"
   ]
  },
  {
   "cell_type": "code",
   "execution_count": 55,
   "metadata": {},
   "outputs": [
    {
     "name": "stdout",
     "output_type": "stream",
     "text": [
      "+-----+-----+------+------+-------------------+\n",
      "| open| high|   low| close|       company_name|\n",
      "+-----+-----+------+------+-------------------+\n",
      "|131.1|131.3|128.41|130.66|JPMorgan Chase & Co|\n",
      "+-----+-----+------+------+-------------------+\n",
      "\n"
     ]
    }
   ],
   "source": [
    "symbol = 'JPM'\n",
    "url = f'https://www.alphavantage.co/query?function=TIME_SERIES_DAILY_ADJUSTED&symbol={symbol}&apikey={key}'\n",
    "r = requests.get(url)\n",
    "data = [r.json()]\n",
    "\n",
    "company_name = 'JPMorgan Chase & Co'\n",
    "rdd = spark.sparkContext.parallelize(data)\n",
    "df = spark.read.json(rdd)\n",
    "clean_data = df.select(f.col(\"Time Series (Daily).2022-12-22.`1. open`\"), \\\n",
    "            f.col(\"Time Series (Daily).2022-12-22.`2. high`\"), \\\n",
    "            f.col(\"Time Series (Daily).2022-12-22.`3. low`\"), \\\n",
    "            f.col(\"Time Series (Daily).2022-12-22.`4. close`\"))\n",
    "\n",
    "add_company_col =clean_data.withColumn(\"company_name\", lit(company_name)) \\\n",
    "\n",
    "jp_com_df = add_company_col.toDF(\"open\",\"high\",\"low\",\"close\",\"company_name\")\n",
    "jp_com_df.show()"
   ]
  },
  {
   "cell_type": "code",
   "execution_count": 57,
   "metadata": {},
   "outputs": [
    {
     "name": "stdout",
     "output_type": "stream",
     "text": [
      "+-------+--------------+-------------------+\n",
      "|PERatio|GrossProfitTTM|        companyname|\n",
      "+-------+--------------+-------------------+\n",
      "|  11.08|  130898000000|JPMorgan Chase & Co|\n",
      "+-------+--------------+-------------------+\n",
      "\n"
     ]
    }
   ],
   "source": [
    "symbol = 'JPM'\n",
    "url = f'https://www.alphavantage.co/query?function=OVERVIEW&symbol={symbol}&apikey={key}'\n",
    "r = requests.get(url)\n",
    "data = [r.json()]\n",
    "\n",
    "company_name = 'JPMorgan Chase & Co'\n",
    "rdd = spark.sparkContext.parallelize(data)\n",
    "df = spark.read.json(rdd)\n",
    "clean_data = df.select(f.col(\"PERatio\"),f.col(\"GrossProfitTTM\"))\n",
    "add_company_col =clean_data.withColumn(\"company_name\", lit(company_name))\n",
    "jp_com_df1 = add_company_col.toDF(\"PERatio\",\"GrossProfitTTM\",\"companyname\")\n",
    "jp_com_df1.show()"
   ]
  },
  {
   "cell_type": "code",
   "execution_count": 58,
   "metadata": {},
   "outputs": [
    {
     "name": "stdout",
     "output_type": "stream",
     "text": [
      "+-----+-----+------+------+-----------------------+-------------------------------+-------------------+\n",
      "|open |high |low   |close |PERatio_of_last_quarter|profit_margin_last_four_quaters|company_name       |\n",
      "+-----+-----+------+------+-----------------------+-------------------------------+-------------------+\n",
      "|131.1|131.3|128.41|130.66|11.08                  |130898000000                   |JPMorgan Chase & Co|\n",
      "+-----+-----+------+------+-----------------------+-------------------------------+-------------------+\n",
      "\n"
     ]
    },
    {
     "name": "stderr",
     "output_type": "stream",
     "text": [
      "                                                                                \r"
     ]
    }
   ],
   "source": [
    "with_peratio=jp_com_df.join(jp_com_df1,jp_com_df.company_name ==  jp_com_df1.companyname,\"inner\")\n",
    "jp_com=with_peratio.withColumnRenamed('PERatio', 'PERatio_of_last_quarter').withColumnRenamed('GrossProfitTTM', 'profit_margin_last_four_quaters')\n",
    "jp_com.select('open','high','low','close','PERatio_of_last_quarter','profit_margin_last_four_quaters','company_name').show(truncate=False)"
   ]
  },
  {
   "cell_type": "markdown",
   "metadata": {},
   "source": [
    "Coca-Cola Co (KO)"
   ]
  },
  {
   "cell_type": "code",
   "execution_count": 59,
   "metadata": {},
   "outputs": [
    {
     "name": "stdout",
     "output_type": "stream",
     "text": [
      "+-----+-----+------+-----+------------+\n",
      "| open| high|   low|close|company_name|\n",
      "+-----+-----+------+-----+------------+\n",
      "|63.42|63.59|62.645|63.34|Coca-Cola Co|\n",
      "+-----+-----+------+-----+------------+\n",
      "\n"
     ]
    }
   ],
   "source": [
    "symbol = 'KO'\n",
    "url = f'https://www.alphavantage.co/query?function=TIME_SERIES_DAILY_ADJUSTED&symbol={symbol}&apikey={key}'\n",
    "r = requests.get(url)\n",
    "data = [r.json()]\n",
    "\n",
    "company_name = 'Coca-Cola Co'\n",
    "rdd = spark.sparkContext.parallelize(data)\n",
    "df = spark.read.json(rdd)\n",
    "clean_data = df.select(f.col(\"Time Series (Daily).2022-12-22.`1. open`\"), \\\n",
    "            f.col(\"Time Series (Daily).2022-12-22.`2. high`\"), \\\n",
    "            f.col(\"Time Series (Daily).2022-12-22.`3. low`\"), \\\n",
    "            f.col(\"Time Series (Daily).2022-12-22.`4. close`\"))\n",
    "\n",
    "add_company_col =clean_data.withColumn(\"company_name\", lit(company_name)) \\\n",
    "\n",
    "coca_com_df = add_company_col.toDF(\"open\",\"high\",\"low\",\"close\",\"company_name\")\n",
    "coca_com_df.show()"
   ]
  },
  {
   "cell_type": "code",
   "execution_count": 60,
   "metadata": {},
   "outputs": [
    {
     "name": "stdout",
     "output_type": "stream",
     "text": [
      "+-------+--------------+------------+\n",
      "|PERatio|GrossProfitTTM| companyname|\n",
      "+-------+--------------+------------+\n",
      "|  27.99|   23298000000|Coca-Cola Co|\n",
      "+-------+--------------+------------+\n",
      "\n"
     ]
    }
   ],
   "source": [
    "symbol = 'KO'\n",
    "url = f'https://www.alphavantage.co/query?function=OVERVIEW&symbol={symbol}&apikey={key}'\n",
    "r = requests.get(url)\n",
    "data = [r.json()]\n",
    "\n",
    "company_name = 'Coca-Cola Co'\n",
    "rdd = spark.sparkContext.parallelize(data)\n",
    "df = spark.read.json(rdd)\n",
    "clean_data = df.select(f.col(\"PERatio\"),f.col(\"GrossProfitTTM\"))\n",
    "add_company_col =clean_data.withColumn(\"company_name\", lit(company_name))\n",
    "coca_com_df1 = add_company_col.toDF(\"PERatio\",\"GrossProfitTTM\",\"companyname\")\n",
    "coca_com_df1.show()"
   ]
  },
  {
   "cell_type": "code",
   "execution_count": 61,
   "metadata": {},
   "outputs": [
    {
     "name": "stdout",
     "output_type": "stream",
     "text": [
      "+-----+-----+------+-----+-----------------------+-------------------------------+------------+\n",
      "|open |high |low   |close|PERatio_of_last_quarter|profit_margin_last_four_quaters|company_name|\n",
      "+-----+-----+------+-----+-----------------------+-------------------------------+------------+\n",
      "|63.42|63.59|62.645|63.34|27.99                  |23298000000                    |Coca-Cola Co|\n",
      "+-----+-----+------+-----+-----------------------+-------------------------------+------------+\n",
      "\n"
     ]
    },
    {
     "name": "stderr",
     "output_type": "stream",
     "text": [
      "                                                                                \r"
     ]
    }
   ],
   "source": [
    "with_peratio=coca_com_df.join(coca_com_df1,coca_com_df.company_name ==  coca_com_df1.companyname,\"inner\")\n",
    "coca_cola_com=with_peratio.withColumnRenamed('PERatio', 'PERatio_of_last_quarter').withColumnRenamed('GrossProfitTTM', 'profit_margin_last_four_quaters')\n",
    "coca_cola_com.select('open','high','low','close','PERatio_of_last_quarter','profit_margin_last_four_quaters','company_name').show(truncate=False)"
   ]
  },
  {
   "cell_type": "markdown",
   "metadata": {},
   "source": [
    "Walt Disney Company (DIS)"
   ]
  },
  {
   "cell_type": "code",
   "execution_count": 62,
   "metadata": {},
   "outputs": [
    {
     "name": "stdout",
     "output_type": "stream",
     "text": [
      "+-----+-----+-----+-----+-------------------+\n",
      "| open| high|  low|close|       company_name|\n",
      "+-----+-----+-----+-----+-------------------+\n",
      "|86.03|86.73|84.69|86.67|Walt Disney Company|\n",
      "+-----+-----+-----+-----+-------------------+\n",
      "\n"
     ]
    }
   ],
   "source": [
    "symbol = 'DIS'\n",
    "url = f'https://www.alphavantage.co/query?function=TIME_SERIES_DAILY_ADJUSTED&symbol={symbol}&apikey={key}'\n",
    "r = requests.get(url)\n",
    "data = [r.json()]\n",
    "\n",
    "company_name = 'Walt Disney Company'\n",
    "rdd = spark.sparkContext.parallelize(data)\n",
    "df = spark.read.json(rdd)\n",
    "clean_data = df.select(f.col(\"Time Series (Daily).2022-12-22.`1. open`\"), \\\n",
    "            f.col(\"Time Series (Daily).2022-12-22.`2. high`\"), \\\n",
    "            f.col(\"Time Series (Daily).2022-12-22.`3. low`\"), \\\n",
    "            f.col(\"Time Series (Daily).2022-12-22.`4. close`\"))\n",
    "\n",
    "add_company_col =clean_data.withColumn(\"company_name\", lit(company_name))\n",
    "disney_com_df = add_company_col.toDF(\"open\",\"high\",\"low\",\"close\",\"company_name\")\n",
    "disney_com_df.show()"
   ]
  },
  {
   "cell_type": "code",
   "execution_count": 63,
   "metadata": {},
   "outputs": [
    {
     "name": "stdout",
     "output_type": "stream",
     "text": [
      "+-------+--------------+-------------------+\n",
      "|PERatio|GrossProfitTTM|        companyname|\n",
      "+-------+--------------+-------------------+\n",
      "|  49.44|   28321000000|Walt Disney Company|\n",
      "+-------+--------------+-------------------+\n",
      "\n"
     ]
    }
   ],
   "source": [
    "symbol = 'DIS'\n",
    "url = f'https://www.alphavantage.co/query?function=OVERVIEW&symbol={symbol}&apikey={key}'\n",
    "r = requests.get(url)\n",
    "data = [r.json()]\n",
    "\n",
    "company_name = 'Walt Disney Company'\n",
    "rdd = spark.sparkContext.parallelize(data)\n",
    "df = spark.read.json(rdd)\n",
    "clean_data = df.select(f.col(\"PERatio\"),f.col(\"GrossProfitTTM\"))\n",
    "add_company_col =clean_data.withColumn(\"company_name\", lit(company_name))\n",
    "disney_com_df1 = add_company_col.toDF(\"PERatio\",\"GrossProfitTTM\",\"companyname\")\n",
    "disney_com_df1.show()"
   ]
  },
  {
   "cell_type": "code",
   "execution_count": 64,
   "metadata": {},
   "outputs": [
    {
     "name": "stdout",
     "output_type": "stream",
     "text": [
      "+-----+-----+-----+-----+-----------------------+-------------------------------+-------------------+\n",
      "|open |high |low  |close|PERatio_of_last_quarter|profit_margin_last_four_quaters|company_name       |\n",
      "+-----+-----+-----+-----+-----------------------+-------------------------------+-------------------+\n",
      "|86.03|86.73|84.69|86.67|49.44                  |28321000000                    |Walt Disney Company|\n",
      "+-----+-----+-----+-----+-----------------------+-------------------------------+-------------------+\n",
      "\n"
     ]
    },
    {
     "name": "stderr",
     "output_type": "stream",
     "text": [
      "                                                                                \r"
     ]
    }
   ],
   "source": [
    "with_peratio=disney_com_df.join(disney_com_df1,disney_com_df.company_name ==  disney_com_df1.companyname,\"inner\")\n",
    "disney_com=with_peratio.withColumnRenamed('PERatio', 'PERatio_of_last_quarter').withColumnRenamed('GrossProfitTTM', 'profit_margin_last_four_quaters')\n",
    "disney_com.select('open','high','low','close','PERatio_of_last_quarter','profit_margin_last_four_quaters','company_name').show(truncate=False)"
   ]
  },
  {
   "cell_type": "code",
   "execution_count": 65,
   "metadata": {},
   "outputs": [
    {
     "name": "stdout",
     "output_type": "stream",
     "text": [
      "root\n",
      " |-- open: string (nullable = true)\n",
      " |-- high: string (nullable = true)\n",
      " |-- low: string (nullable = true)\n",
      " |-- close: string (nullable = true)\n",
      " |-- company_name: string (nullable = false)\n",
      " |-- PERatio_of_last_quarter: string (nullable = true)\n",
      " |-- profit_margin_last_four_quaters: string (nullable = true)\n",
      " |-- companyname: string (nullable = false)\n",
      "\n"
     ]
    },
    {
     "name": "stderr",
     "output_type": "stream",
     "text": [
      "[Stage 205:==============================================>      (170 + 8) / 195]\r"
     ]
    },
    {
     "name": "stdout",
     "output_type": "stream",
     "text": [
      "+-----+------+------+------+-------------------+-----------------------+-------------------------------+-------------------+\n",
      "| open|  high|   low| close|       company_name|PERatio_of_last_quarter|profit_margin_last_four_quaters|        companyname|\n",
      "+-----+------+------+------+-------------------+-----------------------+-------------------------------+-------------------+\n",
      "|85.52| 85.68| 82.25| 83.79|     Amazon.com Inc|                  76.12|                   197478000000|     Amazon.com Inc|\n",
      "|26.45|26.452| 25.35| 25.97|  Intel Corporation|                   8.08|                    43815000000|  Intel Corporation|\n",
      "|131.1| 131.3|128.41|130.66|JPMorgan Chase & Co|                  11.08|                   130898000000|JPMorgan Chase & Co|\n",
      "|63.42| 63.59|62.645| 63.34|       Coca-Cola Co|                  27.99|                    23298000000|       Coca-Cola Co|\n",
      "|86.03| 86.73| 84.69| 86.67|Walt Disney Company|                  49.44|                    28321000000|Walt Disney Company|\n",
      "+-----+------+------+------+-------------------+-----------------------+-------------------------------+-------------------+\n",
      "\n"
     ]
    },
    {
     "name": "stderr",
     "output_type": "stream",
     "text": [
      "                                                                                \r"
     ]
    }
   ],
   "source": [
    "union1 = amzn_com.union(intel_com)\n",
    "union2 = union1.union(jp_com)\n",
    "union3 = union2.union(coca_cola_com)\n",
    "union4 = union3.union(disney_com)\n",
    "final_df = union4\n",
    "final_df.printSchema()\n",
    "final_df.show()"
   ]
  },
  {
   "cell_type": "code",
   "execution_count": 66,
   "metadata": {},
   "outputs": [],
   "source": [
    "spark.stop()"
   ]
  }
 ],
 "metadata": {
  "kernelspec": {
   "display_name": "Python 3.8.10 64-bit",
   "language": "python",
   "name": "python3"
  },
  "language_info": {
   "codemirror_mode": {
    "name": "ipython",
    "version": 3
   },
   "file_extension": ".py",
   "mimetype": "text/x-python",
   "name": "python",
   "nbconvert_exporter": "python",
   "pygments_lexer": "ipython3",
   "version": "3.8.10"
  },
  "orig_nbformat": 4,
  "vscode": {
   "interpreter": {
    "hash": "31f2aee4e71d21fbe5cf8b01ff0e069b9275f58929596ceb00d14d90e3e16cd6"
   }
  }
 },
 "nbformat": 4,
 "nbformat_minor": 2
}

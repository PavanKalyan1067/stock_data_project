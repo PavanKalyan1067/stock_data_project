{
 "cells": [
  {
   "cell_type": "code",
   "execution_count": 119,
   "metadata": {},
   "outputs": [],
   "source": [
    "import os\n",
    "import requests\n",
    "from pyspark.sql.functions import lit\n",
    "from pyspark.sql import SparkSession, functions as f"
   ]
  },
  {
   "cell_type": "code",
   "execution_count": 120,
   "metadata": {},
   "outputs": [],
   "source": [
    "from dotenv import load_dotenv\n",
    "load_dotenv()\n",
    "key=os.environ.get(\"KEY\")\n",
    "spark = SparkSession.builder.getOrCreate()"
   ]
  },
  {
   "cell_type": "markdown",
   "metadata": {},
   "source": [
    "Amazon.com Inc (AMZN)"
   ]
  },
  {
   "cell_type": "code",
   "execution_count": 121,
   "metadata": {},
   "outputs": [
    {
     "name": "stdout",
     "output_type": "stream",
     "text": [
      "+-----+-----+-----+-----+--------------+\n",
      "| open| high|  low|close|  company_name|\n",
      "+-----+-----+-----+-----+--------------+\n",
      "|85.52|85.68|82.25|83.79|Amazon.com Inc|\n",
      "+-----+-----+-----+-----+--------------+\n",
      "\n"
     ]
    }
   ],
   "source": [
    "symbol = 'AMZN'\n",
    "url = f'https://www.alphavantage.co/query?function=TIME_SERIES_DAILY_ADJUSTED&symbol={symbol}&apikey={key}'\n",
    "r = requests.get(url)\n",
    "data = [r.json()]\n",
    "\n",
    "company_name = 'Amazon.com Inc'\n",
    "rdd = spark.sparkContext.parallelize(data)\n",
    "df = spark.read.json(rdd)\n",
    "clean_data = df.select(f.col(\"Time Series (Daily).2022-12-22.`1. open`\"), \\\n",
    "            f.col(\"Time Series (Daily).2022-12-22.`2. high`\"), \\\n",
    "            f.col(\"Time Series (Daily).2022-12-22.`3. low`\"), \\\n",
    "            f.col(\"Time Series (Daily).2022-12-22.`4. close`\"))\n",
    "\n",
    "add_company_col =clean_data.withColumn(\"company_name\", lit(company_name)) \\\n",
    "\n",
    "amzn_com_df = add_company_col.toDF(\"open\",\"high\",\"low\",\"close\",\"company_name\")\n",
    "amzn_com_df.show()"
   ]
  },
  {
   "cell_type": "code",
   "execution_count": 122,
   "metadata": {},
   "outputs": [
    {
     "name": "stdout",
     "output_type": "stream",
     "text": [
      "+-------+--------------+--------------+\n",
      "|PERatio|GrossProfitTTM|   companyname|\n",
      "+-------+--------------+--------------+\n",
      "|  76.12|  197478000000|Amazon.com Inc|\n",
      "+-------+--------------+--------------+\n",
      "\n"
     ]
    }
   ],
   "source": [
    "symbol = 'AMZN'\n",
    "url = f'https://www.alphavantage.co/query?function=OVERVIEW&symbol={symbol}&apikey={key}'\n",
    "r = requests.get(url)\n",
    "data = [r.json()]\n",
    "\n",
    "company_name = 'Amazon.com Inc'\n",
    "rdd = spark.sparkContext.parallelize(data)\n",
    "df = spark.read.json(rdd)\n",
    "clean_data = df.select(f.col(\"PERatio\"),f.col(\"GrossProfitTTM\"))\n",
    "add_company_col =clean_data.withColumn(\"company_name\", lit(company_name))\n",
    "amzn_com_df1 = add_company_col.toDF(\"PERatio\",\"GrossProfitTTM\",\"companyname\")\n",
    "amzn_com_df1.show()"
   ]
  },
  {
   "cell_type": "code",
   "execution_count": 123,
   "metadata": {},
   "outputs": [
    {
     "name": "stdout",
     "output_type": "stream",
     "text": [
      "+-----------------+-----------+-----------+--------------+\n",
      "|operatingCashflow| profitLoss|  netIncome|   companyname|\n",
      "+-----------------+-----------+-----------+--------------+\n",
      "|      66064000000|21331000000|21331000000|Amazon.com Inc|\n",
      "+-----------------+-----------+-----------+--------------+\n",
      "\n"
     ]
    }
   ],
   "source": [
    "symbol = 'AMZN'\n",
    "url = f'https://www.alphavantage.co/query?function=CASH_FLOW&symbol={symbol}&apikey={key}'\n",
    "r = requests.get(url)\n",
    "data = [r.json()]\n",
    "\n",
    "company_name = 'Amazon.com Inc'\n",
    "rdd = spark.sparkContext.parallelize(data)\n",
    "df = spark.read.json(rdd)\n",
    "clean_data = df.select(f.col(\"annualReports.operatingCashflow\"),f.col(\"annualReports.profitLoss\"),f.col(\"annualReports.netIncome\"))\n",
    "\n",
    "add_company_col =clean_data.withColumn(\"company_name\", lit(company_name)) \\\n",
    "\n",
    "amzn_com_cash_flow = add_company_col.toDF(\"operatingCashflow\",\"profitLoss\",'netIncome',\"companyname\")\n",
    "amzn_com_cash_flow_f = amzn_com_cash_flow.withColumn(\"operatingCashflow\", amzn_com_cash_flow[\"operatingCashflow\"].getItem(1))\\\n",
    "                .withColumn(\"profitLoss\", amzn_com_cash_flow[\"profitLoss\"].getItem(1))\\\n",
    "                .withColumn(\"netIncome\", amzn_com_cash_flow[\"netIncome\"].getItem(1))\n",
    "amzn_com_cash_flow_f.show()"
   ]
  },
  {
   "cell_type": "code",
   "execution_count": 124,
   "metadata": {},
   "outputs": [
    {
     "name": "stdout",
     "output_type": "stream",
     "text": [
      "+-----+-----+-----+-----+-------+-------------+--------------+\n",
      "|open |high |low  |close|PERatio|profit_margin|company_name  |\n",
      "+-----+-----+-----+-----+-------+-------------+--------------+\n",
      "|85.52|85.68|82.25|83.79|76.12  |197478000000 |Amazon.com Inc|\n",
      "+-----+-----+-----+-----+-------+-------------+--------------+\n",
      "\n"
     ]
    },
    {
     "name": "stderr",
     "output_type": "stream",
     "text": [
      "                                                                                \r"
     ]
    }
   ],
   "source": [
    "with_peratio=amzn_com_df.join(amzn_com_df1,amzn_com_df.company_name ==  amzn_com_df1.companyname,\"inner\")\n",
    "amzn_com=with_peratio.withColumnRenamed('PERatio', 'PERatio').withColumnRenamed('GrossProfitTTM', 'profit_margin')\n",
    "amzn_com=amzn_com.select('open','high','low','close','PERatio','profit_margin','company_name')\n",
    "amzn_com.show(truncate=False)"
   ]
  },
  {
   "cell_type": "code",
   "execution_count": 125,
   "metadata": {},
   "outputs": [
    {
     "name": "stderr",
     "output_type": "stream",
     "text": [
      "[Stage 209:==================================================>  (369 + 8) / 387]\r"
     ]
    },
    {
     "name": "stdout",
     "output_type": "stream",
     "text": [
      "+-----+-----+-----+-----+-------+-------------+-----------------+-----------+-----------+--------------+\n",
      "| open| high|  low|close|PERatio|profit_margin|operatingCashflow| profitLoss|  netIncome|  company_name|\n",
      "+-----+-----+-----+-----+-------+-------------+-----------------+-----------+-----------+--------------+\n",
      "|85.52|85.68|82.25|83.79|  76.12| 197478000000|      66064000000|21331000000|21331000000|Amazon.com Inc|\n",
      "+-----+-----+-----+-----+-------+-------------+-----------------+-----------+-----------+--------------+\n",
      "\n"
     ]
    },
    {
     "name": "stderr",
     "output_type": "stream",
     "text": [
      "                                                                                \r"
     ]
    }
   ],
   "source": [
    "with_cash_flow=amzn_com.join(amzn_com_cash_flow_f,amzn_com.company_name ==  amzn_com_cash_flow_f.companyname,\"inner\")\n",
    "amzn_with_cash_flow=with_cash_flow.select('open','high','low','close','PERatio','profit_margin','operatingCashflow','profitLoss','netIncome','company_name')\n",
    "amzn_with_cash_flow.show()"
   ]
  },
  {
   "cell_type": "markdown",
   "metadata": {},
   "source": [
    "Intel Corporation (INTC)"
   ]
  },
  {
   "cell_type": "code",
   "execution_count": 126,
   "metadata": {},
   "outputs": [
    {
     "name": "stdout",
     "output_type": "stream",
     "text": [
      "+-----+------+-----+-----+-----------------+\n",
      "| open|  high|  low|close|     company_name|\n",
      "+-----+------+-----+-----+-----------------+\n",
      "|26.45|26.452|25.35|25.97|Intel Corporation|\n",
      "+-----+------+-----+-----+-----------------+\n",
      "\n"
     ]
    }
   ],
   "source": [
    "symbol = 'INTC'\n",
    "url = f'https://www.alphavantage.co/query?function=TIME_SERIES_DAILY_ADJUSTED&symbol={symbol}&apikey={key}'\n",
    "r = requests.get(url)\n",
    "data = [r.json()]\n",
    "\n",
    "company_name = 'Intel Corporation'\n",
    "rdd = spark.sparkContext.parallelize(data)\n",
    "df = spark.read.json(rdd)\n",
    "clean_data = df.select(f.col(\"Time Series (Daily).2022-12-22.`1. open`\"), \\\n",
    "            f.col(\"Time Series (Daily).2022-12-22.`2. high`\"), \\\n",
    "            f.col(\"Time Series (Daily).2022-12-22.`3. low`\"), \\\n",
    "            f.col(\"Time Series (Daily).2022-12-22.`4. close`\"))\n",
    "\n",
    "add_company_col =clean_data.withColumn(\"company_name\", lit(company_name)) \\\n",
    "\n",
    "intel_com_df = add_company_col.toDF(\"open\",\"high\",\"low\",\"close\",\"company_name\")\n",
    "intel_com_df.show()"
   ]
  },
  {
   "cell_type": "code",
   "execution_count": 127,
   "metadata": {},
   "outputs": [
    {
     "name": "stdout",
     "output_type": "stream",
     "text": [
      "+-------+--------------+-----------------+\n",
      "|PERatio|GrossProfitTTM|      companyname|\n",
      "+-------+--------------+-----------------+\n",
      "|   8.08|   43815000000|Intel Corporation|\n",
      "+-------+--------------+-----------------+\n",
      "\n"
     ]
    }
   ],
   "source": [
    "symbol = 'INTC'\n",
    "url = f'https://www.alphavantage.co/query?function=OVERVIEW&symbol={symbol}&apikey={key}'\n",
    "r = requests.get(url)\n",
    "data = [r.json()]\n",
    "\n",
    "company_name = 'Intel Corporation'\n",
    "rdd = spark.sparkContext.parallelize(data)\n",
    "df = spark.read.json(rdd)\n",
    "clean_data = df.select(f.col(\"PERatio\"),f.col(\"GrossProfitTTM\"))\n",
    "add_company_col =clean_data.withColumn(\"company_name\", lit(company_name))\n",
    "intel_com_df1 = add_company_col.toDF(\"PERatio\",\"GrossProfitTTM\",\"companyname\")\n",
    "intel_com_df1.show()"
   ]
  },
  {
   "cell_type": "code",
   "execution_count": 128,
   "metadata": {},
   "outputs": [
    {
     "name": "stdout",
     "output_type": "stream",
     "text": [
      "+-----------------+-----------+-----------+-----------------+\n",
      "|operatingCashflow| profitLoss|  netIncome|      companyname|\n",
      "+-----------------+-----------+-----------+-----------------+\n",
      "|      35384000000|20899000000|20899000000|Intel Corporation|\n",
      "+-----------------+-----------+-----------+-----------------+\n",
      "\n"
     ]
    }
   ],
   "source": [
    "symbol = 'INTC'\n",
    "url = f'https://www.alphavantage.co/query?function=CASH_FLOW&symbol={symbol}&apikey={key}'\n",
    "r = requests.get(url)\n",
    "data = [r.json()]\n",
    "\n",
    "company_name = 'Intel Corporation'\n",
    "rdd = spark.sparkContext.parallelize(data)\n",
    "df = spark.read.json(rdd)\n",
    "clean_data = df.select(f.col(\"annualReports.operatingCashflow\"),f.col(\"annualReports.profitLoss\"),f.col(\"annualReports.netIncome\"))\n",
    "\n",
    "add_company_col =clean_data.withColumn(\"company_name\", lit(company_name)) \\\n",
    "\n",
    "intel_com_cash_flow = add_company_col.toDF(\"operatingCashflow\",\"profitLoss\",'netIncome',\"companyname\")\n",
    "intel_com_cash_flow_f = intel_com_cash_flow.withColumn(\"operatingCashflow\", intel_com_cash_flow[\"operatingCashflow\"].getItem(1))\\\n",
    "                .withColumn(\"profitLoss\", intel_com_cash_flow[\"profitLoss\"].getItem(1))\\\n",
    "                .withColumn(\"netIncome\", intel_com_cash_flow[\"netIncome\"].getItem(1))\n",
    "intel_com_cash_flow_f.show()"
   ]
  },
  {
   "cell_type": "code",
   "execution_count": 129,
   "metadata": {},
   "outputs": [
    {
     "name": "stdout",
     "output_type": "stream",
     "text": [
      "+-----+------+-----+-----+-------+-------------+-----------------+\n",
      "|open |high  |low  |close|PERatio|profit_margin|company_name     |\n",
      "+-----+------+-----+-----+-------+-------------+-----------------+\n",
      "|26.45|26.452|25.35|25.97|8.08   |43815000000  |Intel Corporation|\n",
      "+-----+------+-----+-----+-------+-------------+-----------------+\n",
      "\n"
     ]
    },
    {
     "name": "stderr",
     "output_type": "stream",
     "text": [
      "                                                                                \r"
     ]
    }
   ],
   "source": [
    "with_peratio=intel_com_df.join(intel_com_df1,intel_com_df.company_name ==  intel_com_df1.companyname,\"inner\")\n",
    "intel_com=with_peratio.withColumnRenamed('PERatio', 'PERatio').withColumnRenamed('GrossProfitTTM', 'profit_margin')\n",
    "intel_com=intel_com.select('open','high','low','close','PERatio','profit_margin','company_name')\n",
    "intel_com.show(truncate=False)"
   ]
  },
  {
   "cell_type": "code",
   "execution_count": 130,
   "metadata": {},
   "outputs": [
    {
     "name": "stderr",
     "output_type": "stream",
     "text": [
      "[Stage 230:====================================================>(385 + 2) / 387]\r"
     ]
    },
    {
     "name": "stdout",
     "output_type": "stream",
     "text": [
      "+-----+------+-----+-----+-------+-------------+-----------------+-----------+-----------+-----------------+\n",
      "| open|  high|  low|close|PERatio|profit_margin|operatingCashflow| profitLoss|  netIncome|     company_name|\n",
      "+-----+------+-----+-----+-------+-------------+-----------------+-----------+-----------+-----------------+\n",
      "|26.45|26.452|25.35|25.97|   8.08|  43815000000|      35384000000|20899000000|20899000000|Intel Corporation|\n",
      "+-----+------+-----+-----+-------+-------------+-----------------+-----------+-----------+-----------------+\n",
      "\n"
     ]
    },
    {
     "name": "stderr",
     "output_type": "stream",
     "text": [
      "                                                                                \r"
     ]
    }
   ],
   "source": [
    "with_cash_flow=intel_com.join(intel_com_cash_flow_f,intel_com.company_name ==  intel_com_cash_flow_f.companyname,\"inner\")\n",
    "intel_with_cash_flow=with_cash_flow.select('open','high','low','close','PERatio','profit_margin','operatingCashflow','profitLoss','netIncome','company_name')\n",
    "intel_with_cash_flow.show()"
   ]
  },
  {
   "cell_type": "markdown",
   "metadata": {},
   "source": [
    "JPMorgan Chase & Co (JPM)"
   ]
  },
  {
   "cell_type": "code",
   "execution_count": 131,
   "metadata": {},
   "outputs": [
    {
     "name": "stdout",
     "output_type": "stream",
     "text": [
      "+-----+-----+------+------+-------------------+\n",
      "| open| high|   low| close|       company_name|\n",
      "+-----+-----+------+------+-------------------+\n",
      "|131.1|131.3|128.41|130.66|JPMorgan Chase & Co|\n",
      "+-----+-----+------+------+-------------------+\n",
      "\n"
     ]
    }
   ],
   "source": [
    "symbol = 'JPM'\n",
    "url = f'https://www.alphavantage.co/query?function=TIME_SERIES_DAILY_ADJUSTED&symbol={symbol}&apikey={key}'\n",
    "r = requests.get(url)\n",
    "data = [r.json()]\n",
    "\n",
    "company_name = 'JPMorgan Chase & Co'\n",
    "rdd = spark.sparkContext.parallelize(data)\n",
    "df = spark.read.json(rdd)\n",
    "clean_data = df.select(f.col(\"Time Series (Daily).2022-12-22.`1. open`\"), \\\n",
    "            f.col(\"Time Series (Daily).2022-12-22.`2. high`\"), \\\n",
    "            f.col(\"Time Series (Daily).2022-12-22.`3. low`\"), \\\n",
    "            f.col(\"Time Series (Daily).2022-12-22.`4. close`\"))\n",
    "\n",
    "add_company_col =clean_data.withColumn(\"company_name\", lit(company_name)) \\\n",
    "\n",
    "jp_com_df = add_company_col.toDF(\"open\",\"high\",\"low\",\"close\",\"company_name\")\n",
    "jp_com_df.show()"
   ]
  },
  {
   "cell_type": "code",
   "execution_count": 132,
   "metadata": {},
   "outputs": [
    {
     "name": "stdout",
     "output_type": "stream",
     "text": [
      "+-------+--------------+-------------------+\n",
      "|PERatio|GrossProfitTTM|        companyname|\n",
      "+-------+--------------+-------------------+\n",
      "|  11.08|  130898000000|JPMorgan Chase & Co|\n",
      "+-------+--------------+-------------------+\n",
      "\n"
     ]
    }
   ],
   "source": [
    "symbol = 'JPM'\n",
    "url = f'https://www.alphavantage.co/query?function=OVERVIEW&symbol={symbol}&apikey={key}'\n",
    "r = requests.get(url)\n",
    "data = [r.json()]\n",
    "\n",
    "company_name = 'JPMorgan Chase & Co'\n",
    "rdd = spark.sparkContext.parallelize(data)\n",
    "df = spark.read.json(rdd)\n",
    "clean_data = df.select(f.col(\"PERatio\"),f.col(\"GrossProfitTTM\"))\n",
    "add_company_col =clean_data.withColumn(\"company_name\", lit(company_name))\n",
    "jp_com_df1 = add_company_col.toDF(\"PERatio\",\"GrossProfitTTM\",\"companyname\")\n",
    "jp_com_df1.show()"
   ]
  },
  {
   "cell_type": "code",
   "execution_count": 133,
   "metadata": {},
   "outputs": [
    {
     "name": "stdout",
     "output_type": "stream",
     "text": [
      "+-----------------+-----------+-----------+-------------------+\n",
      "|operatingCashflow| profitLoss|  netIncome|        companyname|\n",
      "+-----------------+-----------+-----------+-------------------+\n",
      "|     -79910000000|29131000000|29131000000|JPMorgan Chase & Co|\n",
      "+-----------------+-----------+-----------+-------------------+\n",
      "\n"
     ]
    }
   ],
   "source": [
    "symbol = 'JPM'\n",
    "url = f'https://www.alphavantage.co/query?function=CASH_FLOW&symbol={symbol}&apikey={key}'\n",
    "r = requests.get(url)\n",
    "data = [r.json()]\n",
    "\n",
    "company_name = 'JPMorgan Chase & Co'\n",
    "rdd = spark.sparkContext.parallelize(data)\n",
    "df = spark.read.json(rdd)\n",
    "clean_data = df.select(f.col(\"annualReports.operatingCashflow\"),f.col(\"annualReports.profitLoss\"),f.col(\"annualReports.netIncome\"))\n",
    "\n",
    "add_company_col =clean_data.withColumn(\"company_name\", lit(company_name)) \\\n",
    "\n",
    "jpm_com_cash_flow = add_company_col.toDF(\"operatingCashflow\",\"profitLoss\",'netIncome',\"companyname\")\n",
    "jpm_com_cash_flow_f = jpm_com_cash_flow.withColumn(\"operatingCashflow\", jpm_com_cash_flow[\"operatingCashflow\"].getItem(1))\\\n",
    "                .withColumn(\"profitLoss\", jpm_com_cash_flow[\"profitLoss\"].getItem(1))\\\n",
    "                .withColumn(\"netIncome\", jpm_com_cash_flow[\"netIncome\"].getItem(1))\n",
    "jpm_com_cash_flow_f.show()"
   ]
  },
  {
   "cell_type": "code",
   "execution_count": 134,
   "metadata": {},
   "outputs": [
    {
     "name": "stdout",
     "output_type": "stream",
     "text": [
      "+-----+-----+------+------+-------+-------------+-------------------+\n",
      "|open |high |low   |close |PERatio|profit_margin|company_name       |\n",
      "+-----+-----+------+------+-------+-------------+-------------------+\n",
      "|131.1|131.3|128.41|130.66|11.08  |130898000000 |JPMorgan Chase & Co|\n",
      "+-----+-----+------+------+-------+-------------+-------------------+\n",
      "\n"
     ]
    },
    {
     "name": "stderr",
     "output_type": "stream",
     "text": [
      "                                                                                \r"
     ]
    }
   ],
   "source": [
    "with_peratio=jp_com_df.join(jp_com_df1,jp_com_df.company_name ==  jp_com_df1.companyname,\"inner\")\n",
    "jp_com=with_peratio.withColumnRenamed('PERatio', 'PERatio').withColumnRenamed('GrossProfitTTM', 'profit_margin')\n",
    "jp_com=jp_com.select('open','high','low','close','PERatio','profit_margin','company_name')\n",
    "jp_com.show(truncate=False)"
   ]
  },
  {
   "cell_type": "code",
   "execution_count": 135,
   "metadata": {},
   "outputs": [
    {
     "name": "stderr",
     "output_type": "stream",
     "text": [
      "[Stage 251:====================================================>(381 + 6) / 387]\r"
     ]
    },
    {
     "name": "stdout",
     "output_type": "stream",
     "text": [
      "+-----+-----+------+------+-------+-------------+-----------------+-----------+-----------+-------------------+\n",
      "| open| high|   low| close|PERatio|profit_margin|operatingCashflow| profitLoss|  netIncome|       company_name|\n",
      "+-----+-----+------+------+-------+-------------+-----------------+-----------+-----------+-------------------+\n",
      "|131.1|131.3|128.41|130.66|  11.08| 130898000000|     -79910000000|29131000000|29131000000|JPMorgan Chase & Co|\n",
      "+-----+-----+------+------+-------+-------------+-----------------+-----------+-----------+-------------------+\n",
      "\n"
     ]
    },
    {
     "name": "stderr",
     "output_type": "stream",
     "text": [
      "                                                                                \r"
     ]
    }
   ],
   "source": [
    "with_cash_flow=jp_com.join(jpm_com_cash_flow_f,jp_com.company_name ==  jpm_com_cash_flow_f.companyname,\"inner\")\n",
    "jpm_with_cash_flow=with_cash_flow.select('open','high','low','close','PERatio','profit_margin','operatingCashflow','profitLoss','netIncome','company_name')\n",
    "jpm_with_cash_flow.show()"
   ]
  },
  {
   "cell_type": "markdown",
   "metadata": {},
   "source": [
    "Coca-Cola Co (KO)"
   ]
  },
  {
   "cell_type": "code",
   "execution_count": 139,
   "metadata": {},
   "outputs": [
    {
     "name": "stdout",
     "output_type": "stream",
     "text": [
      "+-----+-----+------+-----+------------+\n",
      "| open| high|   low|close|company_name|\n",
      "+-----+-----+------+-----+------------+\n",
      "|63.42|63.59|62.645|63.34|Coca-Cola Co|\n",
      "+-----+-----+------+-----+------------+\n",
      "\n"
     ]
    }
   ],
   "source": [
    "symbol = 'KO'\n",
    "url = f'https://www.alphavantage.co/query?function=TIME_SERIES_DAILY_ADJUSTED&symbol={symbol}&apikey={key}'\n",
    "r = requests.get(url)\n",
    "data = [r.json()]\n",
    "\n",
    "company_name = 'Coca-Cola Co'\n",
    "rdd = spark.sparkContext.parallelize(data)\n",
    "df = spark.read.json(rdd)\n",
    "clean_data = df.select(f.col(\"Time Series (Daily).2022-12-22.`1. open`\"), \\\n",
    "            f.col(\"Time Series (Daily).2022-12-22.`2. high`\"), \\\n",
    "            f.col(\"Time Series (Daily).2022-12-22.`3. low`\"), \\\n",
    "            f.col(\"Time Series (Daily).2022-12-22.`4. close`\"))\n",
    "\n",
    "add_company_col =clean_data.withColumn(\"company_name\", lit(company_name)) \\\n",
    "\n",
    "coca_com_df = add_company_col.toDF(\"open\",\"high\",\"low\",\"close\",\"company_name\")\n",
    "coca_com_df.show()"
   ]
  },
  {
   "cell_type": "code",
   "execution_count": 140,
   "metadata": {},
   "outputs": [
    {
     "name": "stdout",
     "output_type": "stream",
     "text": [
      "+-------+--------------+------------+\n",
      "|PERatio|GrossProfitTTM| companyname|\n",
      "+-------+--------------+------------+\n",
      "|  27.99|   23298000000|Coca-Cola Co|\n",
      "+-------+--------------+------------+\n",
      "\n"
     ]
    }
   ],
   "source": [
    "symbol = 'KO'\n",
    "url = f'https://www.alphavantage.co/query?function=OVERVIEW&symbol={symbol}&apikey={key}'\n",
    "r = requests.get(url)\n",
    "data = [r.json()]\n",
    "\n",
    "company_name = 'Coca-Cola Co'\n",
    "rdd = spark.sparkContext.parallelize(data)\n",
    "df = spark.read.json(rdd)\n",
    "clean_data = df.select(f.col(\"PERatio\"),f.col(\"GrossProfitTTM\"))\n",
    "add_company_col =clean_data.withColumn(\"company_name\", lit(company_name))\n",
    "coca_com_df1 = add_company_col.toDF(\"PERatio\",\"GrossProfitTTM\",\"companyname\")\n",
    "coca_com_df1.show()"
   ]
  },
  {
   "cell_type": "code",
   "execution_count": 141,
   "metadata": {},
   "outputs": [
    {
     "name": "stdout",
     "output_type": "stream",
     "text": [
      "+-----------------+----------+----------+------------+\n",
      "|operatingCashflow|profitLoss| netIncome| companyname|\n",
      "+-----------------+----------+----------+------------+\n",
      "|       9844000000|7768000000|7747000000|Coca-Cola Co|\n",
      "+-----------------+----------+----------+------------+\n",
      "\n"
     ]
    }
   ],
   "source": [
    "symbol = 'KO'\n",
    "url = f'https://www.alphavantage.co/query?function=CASH_FLOW&symbol={symbol}&apikey={key}'\n",
    "r = requests.get(url)\n",
    "data = [r.json()]\n",
    "\n",
    "company_name = 'Coca-Cola Co'\n",
    "rdd = spark.sparkContext.parallelize(data)\n",
    "df = spark.read.json(rdd)\n",
    "clean_data = df.select(f.col(\"annualReports.operatingCashflow\"),f.col(\"annualReports.profitLoss\"),f.col(\"annualReports.netIncome\"))\n",
    "\n",
    "add_company_col =clean_data.withColumn(\"company_name\", lit(company_name)) \\\n",
    "\n",
    "caca_com_cash_flow = add_company_col.toDF(\"operatingCashflow\",\"profitLoss\",'netIncome',\"companyname\")\n",
    "coca_com_cash_flow_f = caca_com_cash_flow.withColumn(\"operatingCashflow\", caca_com_cash_flow[\"operatingCashflow\"].getItem(1))\\\n",
    "                .withColumn(\"profitLoss\", caca_com_cash_flow[\"profitLoss\"].getItem(1))\\\n",
    "                .withColumn(\"netIncome\", caca_com_cash_flow[\"netIncome\"].getItem(1))\n",
    "coca_com_cash_flow_f.show()"
   ]
  },
  {
   "cell_type": "code",
   "execution_count": 142,
   "metadata": {},
   "outputs": [
    {
     "name": "stdout",
     "output_type": "stream",
     "text": [
      "+-----+-----+------+-----+-------+-------------+------------+\n",
      "|open |high |low   |close|PERatio|profit_margin|company_name|\n",
      "+-----+-----+------+-----+-------+-------------+------------+\n",
      "|63.42|63.59|62.645|63.34|27.99  |23298000000  |Coca-Cola Co|\n",
      "+-----+-----+------+-----+-------+-------------+------------+\n",
      "\n"
     ]
    },
    {
     "name": "stderr",
     "output_type": "stream",
     "text": [
      "                                                                                \r"
     ]
    }
   ],
   "source": [
    "with_peratio=coca_com_df.join(coca_com_df1,coca_com_df.company_name ==  coca_com_df1.companyname,\"inner\")\n",
    "coca_cola_com=with_peratio.withColumnRenamed('PERatio', 'PERatio').withColumnRenamed('GrossProfitTTM', 'profit_margin')\n",
    "coca_cola_com = coca_cola_com.select('open','high','low','close','PERatio','profit_margin','company_name')\n",
    "coca_cola_com.show(truncate=False)"
   ]
  },
  {
   "cell_type": "code",
   "execution_count": 143,
   "metadata": {},
   "outputs": [
    {
     "name": "stderr",
     "output_type": "stream",
     "text": [
      "[Stage 278:==================================================>  (370 + 8) / 387]\r"
     ]
    },
    {
     "name": "stdout",
     "output_type": "stream",
     "text": [
      "+-----+-----+------+-----+-------+-------------+-----------------+----------+----------+------------+\n",
      "| open| high|   low|close|PERatio|profit_margin|operatingCashflow|profitLoss| netIncome|company_name|\n",
      "+-----+-----+------+-----+-------+-------------+-----------------+----------+----------+------------+\n",
      "|63.42|63.59|62.645|63.34|  27.99|  23298000000|       9844000000|7768000000|7747000000|Coca-Cola Co|\n",
      "+-----+-----+------+-----+-------+-------------+-----------------+----------+----------+------------+\n",
      "\n"
     ]
    },
    {
     "name": "stderr",
     "output_type": "stream",
     "text": [
      "                                                                                \r"
     ]
    }
   ],
   "source": [
    "with_cash_flow=coca_cola_com.join(coca_com_cash_flow_f,coca_cola_com.company_name ==  coca_com_cash_flow_f.companyname,\"inner\")\n",
    "coca_with_cash_flow=with_cash_flow.select('open','high','low','close','PERatio','profit_margin','operatingCashflow','profitLoss','netIncome','company_name')\n",
    "coca_with_cash_flow.show()"
   ]
  },
  {
   "cell_type": "markdown",
   "metadata": {},
   "source": [
    "Walt Disney Company (DIS)"
   ]
  },
  {
   "cell_type": "code",
   "execution_count": 144,
   "metadata": {},
   "outputs": [
    {
     "name": "stdout",
     "output_type": "stream",
     "text": [
      "+-----+-----+-----+-----+-------------------+\n",
      "| open| high|  low|close|       company_name|\n",
      "+-----+-----+-----+-----+-------------------+\n",
      "|86.03|86.73|84.69|86.67|Walt Disney Company|\n",
      "+-----+-----+-----+-----+-------------------+\n",
      "\n"
     ]
    }
   ],
   "source": [
    "symbol = 'DIS'\n",
    "url = f'https://www.alphavantage.co/query?function=TIME_SERIES_DAILY_ADJUSTED&symbol={symbol}&apikey={key}'\n",
    "r = requests.get(url)\n",
    "data = [r.json()]\n",
    "\n",
    "company_name = 'Walt Disney Company'\n",
    "rdd = spark.sparkContext.parallelize(data)\n",
    "df = spark.read.json(rdd)\n",
    "clean_data = df.select(f.col(\"Time Series (Daily).2022-12-22.`1. open`\"), \\\n",
    "            f.col(\"Time Series (Daily).2022-12-22.`2. high`\"), \\\n",
    "            f.col(\"Time Series (Daily).2022-12-22.`3. low`\"), \\\n",
    "            f.col(\"Time Series (Daily).2022-12-22.`4. close`\"))\n",
    "\n",
    "add_company_col =clean_data.withColumn(\"company_name\", lit(company_name))\n",
    "disney_com_df = add_company_col.toDF(\"open\",\"high\",\"low\",\"close\",\"company_name\")\n",
    "disney_com_df.show()"
   ]
  },
  {
   "cell_type": "code",
   "execution_count": 145,
   "metadata": {},
   "outputs": [
    {
     "name": "stdout",
     "output_type": "stream",
     "text": [
      "+-------+--------------+-------------------+\n",
      "|PERatio|GrossProfitTTM|        companyname|\n",
      "+-------+--------------+-------------------+\n",
      "|  49.44|   28321000000|Walt Disney Company|\n",
      "+-------+--------------+-------------------+\n",
      "\n"
     ]
    }
   ],
   "source": [
    "symbol = 'DIS'\n",
    "url = f'https://www.alphavantage.co/query?function=OVERVIEW&symbol={symbol}&apikey={key}'\n",
    "r = requests.get(url)\n",
    "data = [r.json()]\n",
    "\n",
    "company_name = 'Walt Disney Company'\n",
    "rdd = spark.sparkContext.parallelize(data)\n",
    "df = spark.read.json(rdd)\n",
    "clean_data = df.select(f.col(\"PERatio\"),f.col(\"GrossProfitTTM\"))\n",
    "add_company_col =clean_data.withColumn(\"company_name\", lit(company_name))\n",
    "disney_com_df1 = add_company_col.toDF(\"PERatio\",\"GrossProfitTTM\",\"companyname\")\n",
    "disney_com_df1.show()"
   ]
  },
  {
   "cell_type": "code",
   "execution_count": 148,
   "metadata": {},
   "outputs": [
    {
     "name": "stdout",
     "output_type": "stream",
     "text": [
      "+-----------------+----------+----------+-------------------+\n",
      "|operatingCashflow|profitLoss| netIncome|        companyname|\n",
      "+-----------------+----------+----------+-------------------+\n",
      "|      12035000000|2507000000|1995000000|Walt Disney Company|\n",
      "+-----------------+----------+----------+-------------------+\n",
      "\n"
     ]
    }
   ],
   "source": [
    "symbol = 'DIS'\n",
    "url = f'https://www.alphavantage.co/query?function=CASH_FLOW&symbol={symbol}&apikey={key}'\n",
    "r = requests.get(url)\n",
    "data = [r.json()]\n",
    "\n",
    "company_name = 'Walt Disney Company'\n",
    "rdd = spark.sparkContext.parallelize(data)\n",
    "df = spark.read.json(rdd)\n",
    "clean_data = df.select(f.col(\"annualReports.operatingCashflow\"),f.col(\"annualReports.profitLoss\"),f.col(\"annualReports.netIncome\"))\n",
    "\n",
    "add_company_col =clean_data.withColumn(\"company_name\", lit(company_name)) \\\n",
    "\n",
    "dis_com_cash_flow = add_company_col.toDF(\"operatingCashflow\",\"profitLoss\",'netIncome',\"companyname\")\n",
    "dis_com_cash_flow_f = dis_com_cash_flow.withColumn(\"operatingCashflow\", dis_com_cash_flow[\"operatingCashflow\"].getItem(1))\\\n",
    "                .withColumn(\"profitLoss\", dis_com_cash_flow[\"profitLoss\"].getItem(1))\\\n",
    "                .withColumn(\"netIncome\", dis_com_cash_flow[\"netIncome\"].getItem(1))\n",
    "dis_com_cash_flow_f.show()"
   ]
  },
  {
   "cell_type": "code",
   "execution_count": 149,
   "metadata": {},
   "outputs": [
    {
     "name": "stdout",
     "output_type": "stream",
     "text": [
      "+-----+-----+-----+-----+-------+-------------+-------------------+\n",
      "|open |high |low  |close|PERatio|profit_margin|company_name       |\n",
      "+-----+-----+-----+-----+-------+-------------+-------------------+\n",
      "|86.03|86.73|84.69|86.67|49.44  |28321000000  |Walt Disney Company|\n",
      "+-----+-----+-----+-----+-------+-------------+-------------------+\n",
      "\n"
     ]
    }
   ],
   "source": [
    "with_peratio=disney_com_df.join(disney_com_df1,disney_com_df.company_name ==  disney_com_df1.companyname,\"inner\")\n",
    "disney_com=with_peratio.withColumnRenamed('PERatio', 'PERatio').withColumnRenamed('GrossProfitTTM', 'profit_margin')\n",
    "disney_com=disney_com.select('open','high','low','close','PERatio','profit_margin','company_name')\n",
    "disney_com.show(truncate=False)"
   ]
  },
  {
   "cell_type": "code",
   "execution_count": 150,
   "metadata": {},
   "outputs": [
    {
     "name": "stderr",
     "output_type": "stream",
     "text": [
      "[Stage 301:====================================================>(386 + 1) / 387]\r"
     ]
    },
    {
     "name": "stdout",
     "output_type": "stream",
     "text": [
      "+-----+-----+-----+-----+-------+-------------+-----------------+----------+----------+-------------------+\n",
      "| open| high|  low|close|PERatio|profit_margin|operatingCashflow|profitLoss| netIncome|       company_name|\n",
      "+-----+-----+-----+-----+-------+-------------+-----------------+----------+----------+-------------------+\n",
      "|86.03|86.73|84.69|86.67|  49.44|  28321000000|      12035000000|2507000000|1995000000|Walt Disney Company|\n",
      "+-----+-----+-----+-----+-------+-------------+-----------------+----------+----------+-------------------+\n",
      "\n"
     ]
    },
    {
     "name": "stderr",
     "output_type": "stream",
     "text": [
      "                                                                                \r"
     ]
    }
   ],
   "source": [
    "with_cash_flow=disney_com.join(dis_com_cash_flow_f,disney_com.company_name ==  dis_com_cash_flow_f.companyname,\"inner\")\n",
    "dis_with_cash_flow=with_cash_flow.select('open','high','low','close','PERatio','profit_margin','operatingCashflow','profitLoss','netIncome','company_name')\n",
    "dis_with_cash_flow.show()"
   ]
  },
  {
   "cell_type": "code",
   "execution_count": 155,
   "metadata": {},
   "outputs": [
    {
     "name": "stderr",
     "output_type": "stream",
     "text": [
      "[Stage 307:==================================================>(1912 + 8) / 1935]\r"
     ]
    },
    {
     "name": "stdout",
     "output_type": "stream",
     "text": [
      "+-----+------+------+------+-------+-------------+-----------------+-----------+-----------+-------------------+\n",
      "| open|  high|   low| close|PERatio|profit_margin|operatingCashflow| profitLoss|  netIncome|       company_name|\n",
      "+-----+------+------+------+-------+-------------+-----------------+-----------+-----------+-------------------+\n",
      "|85.52| 85.68| 82.25| 83.79|  76.12| 197478000000|      66064000000|21331000000|21331000000|     Amazon.com Inc|\n",
      "|26.45|26.452| 25.35| 25.97|   8.08|  43815000000|      35384000000|20899000000|20899000000|  Intel Corporation|\n",
      "|131.1| 131.3|128.41|130.66|  11.08| 130898000000|     -79910000000|29131000000|29131000000|JPMorgan Chase & Co|\n",
      "|63.42| 63.59|62.645| 63.34|  27.99|  23298000000|       9844000000| 7768000000| 7747000000|       Coca-Cola Co|\n",
      "|86.03| 86.73| 84.69| 86.67|  49.44|  28321000000|      12035000000| 2507000000| 1995000000|Walt Disney Company|\n",
      "+-----+------+------+------+-------+-------------+-----------------+-----------+-----------+-------------------+\n",
      "\n"
     ]
    },
    {
     "name": "stderr",
     "output_type": "stream",
     "text": [
      "                                                                                \r"
     ]
    }
   ],
   "source": [
    "try:\n",
    "    union1 = amzn_with_cash_flow.union(intel_with_cash_flow)\n",
    "    union2 = union1.union(jpm_with_cash_flow)\n",
    "    union3 = union2.union(coca_with_cash_flow)\n",
    "    union4 = union3.union(dis_with_cash_flow)\n",
    "    final_df = union4\n",
    "    final_df.show()\n",
    "except Exception as e:\n",
    "    print(e)"
   ]
  },
  {
   "cell_type": "code",
   "execution_count": 156,
   "metadata": {},
   "outputs": [],
   "source": [
    "spark.stop()"
   ]
  }
 ],
 "metadata": {
  "kernelspec": {
   "display_name": "Python 3.8.10 64-bit",
   "language": "python",
   "name": "python3"
  },
  "language_info": {
   "codemirror_mode": {
    "name": "ipython",
    "version": 3
   },
   "file_extension": ".py",
   "mimetype": "text/x-python",
   "name": "python",
   "nbconvert_exporter": "python",
   "pygments_lexer": "ipython3",
   "version": "3.8.10"
  },
  "orig_nbformat": 4,
  "vscode": {
   "interpreter": {
    "hash": "31f2aee4e71d21fbe5cf8b01ff0e069b9275f58929596ceb00d14d90e3e16cd6"
   }
  }
 },
 "nbformat": 4,
 "nbformat_minor": 2
}

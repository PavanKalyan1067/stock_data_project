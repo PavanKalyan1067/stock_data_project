{
 "cells": [
  {
   "cell_type": "code",
   "execution_count": 22,
   "metadata": {},
   "outputs": [],
   "source": [
    "import os\n",
    "import requests\n",
    "from pyspark.sql.functions import lit\n",
    "from pyspark.sql import SparkSession, functions as f"
   ]
  },
  {
   "cell_type": "code",
   "execution_count": 23,
   "metadata": {},
   "outputs": [],
   "source": [
    "from dotenv import load_dotenv\n",
    "load_dotenv()\n",
    "key=os.environ.get(\"KEY\")\n",
    "spark = SparkSession.builder.getOrCreate()"
   ]
  },
  {
   "cell_type": "markdown",
   "metadata": {},
   "source": [
    "Amazon.com Inc (AMZN)"
   ]
  },
  {
   "cell_type": "code",
   "execution_count": 24,
   "metadata": {},
   "outputs": [
    {
     "name": "stdout",
     "output_type": "stream",
     "text": [
      "+-----+-----+-----+-----+--------------+\n",
      "| open| high|  low|close|  company_name|\n",
      "+-----+-----+-----+-----+--------------+\n",
      "|85.52|85.68|82.25|83.79|Amazon.com Inc|\n",
      "+-----+-----+-----+-----+--------------+\n",
      "\n"
     ]
    }
   ],
   "source": [
    "symbol = 'AMZN'\n",
    "url = f'https://www.alphavantage.co/query?function=TIME_SERIES_DAILY_ADJUSTED&symbol={symbol}&apikey={key}'\n",
    "r = requests.get(url)\n",
    "data = [r.json()]\n",
    "\n",
    "company_name = 'Amazon.com Inc'\n",
    "rdd = spark.sparkContext.parallelize(data)\n",
    "df = spark.read.json(rdd)\n",
    "clean_data = df.select(f.col(\"Time Series (Daily).2022-12-22.`1. open`\"), \\\n",
    "            f.col(\"Time Series (Daily).2022-12-22.`2. high`\"), \\\n",
    "            f.col(\"Time Series (Daily).2022-12-22.`3. low`\"), \\\n",
    "            f.col(\"Time Series (Daily).2022-12-22.`4. close`\"))\n",
    "\n",
    "add_company_col =clean_data.withColumn(\"company_name\", lit(company_name)) \\\n",
    "\n",
    "amzn_com_df = add_company_col.toDF(\"open\",\"high\",\"low\",\"close\",\"company_name\")\n",
    "amzn_com_df.show()"
   ]
  },
  {
   "cell_type": "markdown",
   "metadata": {},
   "source": [
    "Intel Corporation (INTC)"
   ]
  },
  {
   "cell_type": "code",
   "execution_count": 25,
   "metadata": {},
   "outputs": [
    {
     "name": "stdout",
     "output_type": "stream",
     "text": [
      "+-----+------+-----+-----+-----------------+\n",
      "| open|  high|  low|close|     company_name|\n",
      "+-----+------+-----+-----+-----------------+\n",
      "|26.45|26.452|25.35|25.97|Intel Corporation|\n",
      "+-----+------+-----+-----+-----------------+\n",
      "\n"
     ]
    }
   ],
   "source": [
    "symbol = 'INTC'\n",
    "url = f'https://www.alphavantage.co/query?function=TIME_SERIES_DAILY_ADJUSTED&symbol={symbol}&apikey={key}'\n",
    "r = requests.get(url)\n",
    "data = [r.json()]\n",
    "\n",
    "company_name = 'Intel Corporation'\n",
    "rdd = spark.sparkContext.parallelize(data)\n",
    "df = spark.read.json(rdd)\n",
    "clean_data = df.select(f.col(\"Time Series (Daily).2022-12-22.`1. open`\"), \\\n",
    "            f.col(\"Time Series (Daily).2022-12-22.`2. high`\"), \\\n",
    "            f.col(\"Time Series (Daily).2022-12-22.`3. low`\"), \\\n",
    "            f.col(\"Time Series (Daily).2022-12-22.`4. close`\"))\n",
    "\n",
    "add_company_col =clean_data.withColumn(\"company_name\", lit(company_name)) \\\n",
    "\n",
    "intel_com_df = add_company_col.toDF(\"open\",\"high\",\"low\",\"close\",\"company_name\")\n",
    "intel_com_df.show()"
   ]
  },
  {
   "cell_type": "markdown",
   "metadata": {},
   "source": [
    "JPMorgan Chase & Co (JPM)"
   ]
  },
  {
   "cell_type": "code",
   "execution_count": 26,
   "metadata": {},
   "outputs": [
    {
     "name": "stdout",
     "output_type": "stream",
     "text": [
      "+-----+-----+------+------+-------------------+\n",
      "| open| high|   low| close|       company_name|\n",
      "+-----+-----+------+------+-------------------+\n",
      "|131.1|131.3|128.41|130.66|JPMorgan Chase & Co|\n",
      "+-----+-----+------+------+-------------------+\n",
      "\n"
     ]
    }
   ],
   "source": [
    "symbol = 'JPM'\n",
    "url = f'https://www.alphavantage.co/query?function=TIME_SERIES_DAILY_ADJUSTED&symbol={symbol}&apikey={key}'\n",
    "r = requests.get(url)\n",
    "data = [r.json()]\n",
    "\n",
    "company_name = 'JPMorgan Chase & Co'\n",
    "rdd = spark.sparkContext.parallelize(data)\n",
    "df = spark.read.json(rdd)\n",
    "clean_data = df.select(f.col(\"Time Series (Daily).2022-12-22.`1. open`\"), \\\n",
    "            f.col(\"Time Series (Daily).2022-12-22.`2. high`\"), \\\n",
    "            f.col(\"Time Series (Daily).2022-12-22.`3. low`\"), \\\n",
    "            f.col(\"Time Series (Daily).2022-12-22.`4. close`\"))\n",
    "\n",
    "add_company_col =clean_data.withColumn(\"company_name\", lit(company_name)) \\\n",
    "\n",
    "jp_com_df = add_company_col.toDF(\"open\",\"high\",\"low\",\"close\",\"company_name\")\n",
    "jp_com_df.show()"
   ]
  },
  {
   "cell_type": "markdown",
   "metadata": {},
   "source": [
    "Coca-Cola Co (KO)"
   ]
  },
  {
   "cell_type": "code",
   "execution_count": 27,
   "metadata": {},
   "outputs": [
    {
     "name": "stdout",
     "output_type": "stream",
     "text": [
      "+-----+-----+------+-----+------------+\n",
      "| open| high|   low|close|company_name|\n",
      "+-----+-----+------+-----+------------+\n",
      "|63.42|63.59|62.645|63.34|Coca-Cola Co|\n",
      "+-----+-----+------+-----+------------+\n",
      "\n"
     ]
    }
   ],
   "source": [
    "symbol = 'KO'\n",
    "url = f'https://www.alphavantage.co/query?function=TIME_SERIES_DAILY_ADJUSTED&symbol={symbol}&apikey={key}'\n",
    "r = requests.get(url)\n",
    "data = [r.json()]\n",
    "\n",
    "company_name = 'Coca-Cola Co'\n",
    "rdd = spark.sparkContext.parallelize(data)\n",
    "df = spark.read.json(rdd)\n",
    "clean_data = df.select(f.col(\"Time Series (Daily).2022-12-22.`1. open`\"), \\\n",
    "            f.col(\"Time Series (Daily).2022-12-22.`2. high`\"), \\\n",
    "            f.col(\"Time Series (Daily).2022-12-22.`3. low`\"), \\\n",
    "            f.col(\"Time Series (Daily).2022-12-22.`4. close`\"))\n",
    "\n",
    "add_company_col =clean_data.withColumn(\"company_name\", lit(company_name)) \\\n",
    "\n",
    "coca_com_df = add_company_col.toDF(\"open\",\"high\",\"low\",\"close\",\"company_name\")\n",
    "coca_com_df.show()"
   ]
  },
  {
   "cell_type": "markdown",
   "metadata": {},
   "source": [
    "Walt Disney Company (DIS)"
   ]
  },
  {
   "cell_type": "code",
   "execution_count": 28,
   "metadata": {},
   "outputs": [
    {
     "name": "stdout",
     "output_type": "stream",
     "text": [
      "+-----+-----+-----+-----+-------------------+\n",
      "| open| high|  low|close|       company_name|\n",
      "+-----+-----+-----+-----+-------------------+\n",
      "|86.03|86.73|84.69|86.67|Walt Disney Company|\n",
      "+-----+-----+-----+-----+-------------------+\n",
      "\n"
     ]
    }
   ],
   "source": [
    "symbol = 'DIS'\n",
    "url = f'https://www.alphavantage.co/query?function=TIME_SERIES_DAILY_ADJUSTED&symbol={symbol}&apikey={key}'\n",
    "r = requests.get(url)\n",
    "data = [r.json()]\n",
    "\n",
    "company_name = 'Walt Disney Company'\n",
    "rdd = spark.sparkContext.parallelize(data)\n",
    "df = spark.read.json(rdd)\n",
    "clean_data = df.select(f.col(\"Time Series (Daily).2022-12-22.`1. open`\"), \\\n",
    "            f.col(\"Time Series (Daily).2022-12-22.`2. high`\"), \\\n",
    "            f.col(\"Time Series (Daily).2022-12-22.`3. low`\"), \\\n",
    "            f.col(\"Time Series (Daily).2022-12-22.`4. close`\"))\n",
    "\n",
    "add_company_col =clean_data.withColumn(\"company_name\", lit(company_name)) \\\n",
    "\n",
    "disney_com_df = add_company_col.toDF(\"open\",\"high\",\"low\",\"close\",\"company_name\")\n",
    "disney_com_df.show()"
   ]
  },
  {
   "cell_type": "code",
   "execution_count": 29,
   "metadata": {},
   "outputs": [
    {
     "name": "stdout",
     "output_type": "stream",
     "text": [
      "root\n",
      " |-- open: string (nullable = true)\n",
      " |-- high: string (nullable = true)\n",
      " |-- low: string (nullable = true)\n",
      " |-- close: string (nullable = true)\n",
      " |-- company_name: string (nullable = false)\n",
      "\n",
      "+-----+------+------+------+-------------------+\n",
      "| open|  high|   low| close|       company_name|\n",
      "+-----+------+------+------+-------------------+\n",
      "|85.52| 85.68| 82.25| 83.79|     Amazon.com Inc|\n",
      "|26.45|26.452| 25.35| 25.97|  Intel Corporation|\n",
      "|131.1| 131.3|128.41|130.66|JPMorgan Chase & Co|\n",
      "|63.42| 63.59|62.645| 63.34|       Coca-Cola Co|\n",
      "|86.03| 86.73| 84.69| 86.67|Walt Disney Company|\n",
      "+-----+------+------+------+-------------------+\n",
      "\n"
     ]
    }
   ],
   "source": [
    "union1 = amzn_com_df.union(intel_com_df)\n",
    "union2 = union1.union(jp_com_df)\n",
    "union3 = union2.union(coca_com_df)\n",
    "union4 = union3.union(disney_com_df)\n",
    "final_df = union4\n",
    "final_df.printSchema()\n",
    "final_df.show()"
   ]
  }
 ],
 "metadata": {
  "kernelspec": {
   "display_name": "Python 3.8.10 64-bit",
   "language": "python",
   "name": "python3"
  },
  "language_info": {
   "codemirror_mode": {
    "name": "ipython",
    "version": 3
   },
   "file_extension": ".py",
   "mimetype": "text/x-python",
   "name": "python",
   "nbconvert_exporter": "python",
   "pygments_lexer": "ipython3",
   "version": "3.8.10"
  },
  "orig_nbformat": 4,
  "vscode": {
   "interpreter": {
    "hash": "31f2aee4e71d21fbe5cf8b01ff0e069b9275f58929596ceb00d14d90e3e16cd6"
   }
  }
 },
 "nbformat": 4,
 "nbformat_minor": 2
}

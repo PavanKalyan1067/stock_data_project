{
 "cells": [
  {
   "cell_type": "code",
   "execution_count": 1,
   "metadata": {},
   "outputs": [],
   "source": [
    "import os\n",
    "import requests\n",
    "from pyspark.sql.functions import lit\n",
    "from pyspark.sql import SparkSession, functions as f"
   ]
  },
  {
   "cell_type": "code",
   "execution_count": 2,
   "metadata": {},
   "outputs": [
    {
     "name": "stderr",
     "output_type": "stream",
     "text": [
      "Setting default log level to \"WARN\".\n",
      "To adjust logging level use sc.setLogLevel(newLevel). For SparkR, use setLogLevel(newLevel).\n"
     ]
    },
    {
     "name": "stdout",
     "output_type": "stream",
     "text": [
      "22/12/25 13:25:49 WARN NativeCodeLoader: Unable to load native-hadoop library for your platform... using builtin-java classes where applicable\n"
     ]
    }
   ],
   "source": [
    "from dotenv import load_dotenv\n",
    "load_dotenv()\n",
    "key=os.environ.get(\"KEY\")\n",
    "spark = SparkSession.builder.getOrCreate()"
   ]
  },
  {
   "cell_type": "markdown",
   "metadata": {},
   "source": [
    "Amazon.com Inc (AMZN)"
   ]
  },
  {
   "cell_type": "code",
   "execution_count": 3,
   "metadata": {},
   "outputs": [
    {
     "name": "stderr",
     "output_type": "stream",
     "text": [
      "                                                                                \r"
     ]
    },
    {
     "name": "stdout",
     "output_type": "stream",
     "text": [
      "22/12/25 13:25:56 WARN package: Truncated the string representation of a plan since it was too large. This behavior can be adjusted by setting 'spark.sql.debug.maxToStringFields'.\n"
     ]
    },
    {
     "name": "stderr",
     "output_type": "stream",
     "text": [
      "                                                                                \r"
     ]
    },
    {
     "name": "stdout",
     "output_type": "stream",
     "text": [
      "+-----+-----+-----+-----+------------+\n",
      "| open| high|  low|close|company_name|\n",
      "+-----+-----+-----+-----+------------+\n",
      "|85.52|85.68|82.25|83.79|        AMZN|\n",
      "+-----+-----+-----+-----+------------+\n",
      "\n"
     ]
    }
   ],
   "source": [
    "symbol = 'AMZN'\n",
    "url = f'https://www.alphavantage.co/query?function=TIME_SERIES_DAILY_ADJUSTED&symbol={symbol}&apikey={key}'\n",
    "r = requests.get(url)\n",
    "data = [r.json()]\n",
    "\n",
    "rdd = spark.sparkContext.parallelize(data)\n",
    "df = spark.read.json(rdd)\n",
    "clean_data = df.select(f.col(\"Time Series (Daily).2022-12-22.`1. open`\"), \\\n",
    "            f.col(\"Time Series (Daily).2022-12-22.`2. high`\"), \\\n",
    "            f.col(\"Time Series (Daily).2022-12-22.`3. low`\"), \\\n",
    "            f.col(\"Time Series (Daily).2022-12-22.`4. close`\"))\n",
    "\n",
    "add_company_col =clean_data.withColumn(\"company_name\", lit(symbol)) \\\n",
    "\n",
    "amzn_com_df = add_company_col.toDF(\"open\",\"high\",\"low\",\"close\",\"company_name\")\n",
    "amzn_com_df.show()"
   ]
  },
  {
   "cell_type": "markdown",
   "metadata": {},
   "source": [
    "Parmax Pharma Ltd (PARA) BSE"
   ]
  },
  {
   "cell_type": "code",
   "execution_count": 4,
   "metadata": {},
   "outputs": [
    {
     "name": "stdout",
     "output_type": "stream",
     "text": [
      "+------+-----+-----+-----+------------+\n",
      "|  open| high|  low|close|company_name|\n",
      "+------+-----+-----+-----+------------+\n",
      "|16.675|16.98|16.29|16.94|        PARA|\n",
      "+------+-----+-----+-----+------------+\n",
      "\n"
     ]
    }
   ],
   "source": [
    "symbol = 'PARA'\n",
    "url = f'https://www.alphavantage.co/query?function=TIME_SERIES_DAILY_ADJUSTED&symbol={symbol}&apikey={key}'\n",
    "r = requests.get(url)\n",
    "data = [r.json()]\n",
    "\n",
    "rdd = spark.sparkContext.parallelize(data)\n",
    "df = spark.read.json(rdd)\n",
    "clean_data = df.select(f.col(\"Time Series (Daily).2022-12-22.`1. open`\"), \\\n",
    "            f.col(\"Time Series (Daily).2022-12-22.`2. high`\"), \\\n",
    "            f.col(\"Time Series (Daily).2022-12-22.`3. low`\"), \\\n",
    "            f.col(\"Time Series (Daily).2022-12-22.`4. close`\"))\n",
    "\n",
    "add_company_col =clean_data.withColumn(\"company_name\", lit(symbol)) \\\n",
    "\n",
    "para_com_df = add_company_col.toDF(\"open\",\"high\",\"low\",\"close\",\"company_name\")\n",
    "para_com_df.show()"
   ]
  },
  {
   "cell_type": "markdown",
   "metadata": {},
   "source": [
    "Punjab National Bank (PNBK) NSE"
   ]
  },
  {
   "cell_type": "code",
   "execution_count": 5,
   "metadata": {},
   "outputs": [
    {
     "name": "stdout",
     "output_type": "stream",
     "text": [
      "+----+------+------+-----+------------+\n",
      "|open|  high|   low|close|company_name|\n",
      "+----+------+------+-----+------------+\n",
      "|10.5|11.565|10.195|10.86|        PNBK|\n",
      "+----+------+------+-----+------------+\n",
      "\n"
     ]
    }
   ],
   "source": [
    "symbol = 'PNBK'\n",
    "url = f'https://www.alphavantage.co/query?function=TIME_SERIES_DAILY_ADJUSTED&symbol={symbol}&apikey={key}'\n",
    "r = requests.get(url)\n",
    "data = [r.json()]\n",
    "\n",
    "rdd = spark.sparkContext.parallelize(data)\n",
    "df = spark.read.json(rdd)\n",
    "clean_data = df.select(f.col(\"Time Series (Daily).2022-12-22.`1. open`\"), \\\n",
    "            f.col(\"Time Series (Daily).2022-12-22.`2. high`\"), \\\n",
    "            f.col(\"Time Series (Daily).2022-12-22.`3. low`\"), \\\n",
    "            f.col(\"Time Series (Daily).2022-12-22.`4. close`\"))\n",
    "\n",
    "add_company_col =clean_data.withColumn(\"company_name\", lit(symbol)) \\\n",
    "\n",
    "pnbk_com_df = add_company_col.toDF(\"open\",\"high\",\"low\",\"close\",\"company_name\")\n",
    "pnbk_com_df.show()"
   ]
  },
  {
   "cell_type": "markdown",
   "metadata": {},
   "source": [
    "Infosys Ltd (INFY) NSE"
   ]
  },
  {
   "cell_type": "code",
   "execution_count": 6,
   "metadata": {},
   "outputs": [
    {
     "name": "stdout",
     "output_type": "stream",
     "text": [
      "+-----+-----+------+-----+------------+\n",
      "| open| high|   low|close|company_name|\n",
      "+-----+-----+------+-----+------------+\n",
      "|18.04|18.08|17.725|17.93|        INFY|\n",
      "+-----+-----+------+-----+------------+\n",
      "\n"
     ]
    }
   ],
   "source": [
    "symbol = 'INFY'\n",
    "url = f'https://www.alphavantage.co/query?function=TIME_SERIES_DAILY_ADJUSTED&symbol={symbol}&apikey={key}'\n",
    "r = requests.get(url)\n",
    "data = [r.json()]\n",
    "\n",
    "rdd = spark.sparkContext.parallelize(data)\n",
    "df = spark.read.json(rdd)\n",
    "clean_data = df.select(f.col(\"Time Series (Daily).2022-12-22.`1. open`\"), \\\n",
    "            f.col(\"Time Series (Daily).2022-12-22.`2. high`\"), \\\n",
    "            f.col(\"Time Series (Daily).2022-12-22.`3. low`\"), \\\n",
    "            f.col(\"Time Series (Daily).2022-12-22.`4. close`\"))\n",
    "\n",
    "add_company_col =clean_data.withColumn(\"company_name\", lit(symbol)) \\\n",
    "\n",
    "info_com_df = add_company_col.toDF(\"open\",\"high\",\"low\",\"close\",\"company_name\")\n",
    "info_com_df.show()"
   ]
  },
  {
   "cell_type": "markdown",
   "metadata": {},
   "source": [
    "International Business Machines (IBM) NYSE"
   ]
  },
  {
   "cell_type": "code",
   "execution_count": 7,
   "metadata": {},
   "outputs": [
    {
     "name": "stdout",
     "output_type": "stream",
     "text": [
      "+------+------+------+------+------------+\n",
      "|  open|  high|   low| close|company_name|\n",
      "+------+------+------+------+------------+\n",
      "|140.95|141.44|138.62|140.88|         IBM|\n",
      "+------+------+------+------+------------+\n",
      "\n"
     ]
    }
   ],
   "source": [
    "symbol = 'IBM'\n",
    "url = f'https://www.alphavantage.co/query?function=TIME_SERIES_DAILY_ADJUSTED&symbol={symbol}&apikey={key}'\n",
    "r = requests.get(url)\n",
    "data = [r.json()]\n",
    "\n",
    "rdd = spark.sparkContext.parallelize(data)\n",
    "\n",
    "df = spark.read.json(rdd)\n",
    "clean_data = df.select(f.col(\"Time Series (Daily).2022-12-22.`1. open`\"), \\\n",
    "            f.col(\"Time Series (Daily).2022-12-22.`2. high`\"), \\\n",
    "            f.col(\"Time Series (Daily).2022-12-22.`3. low`\"), \\\n",
    "            f.col(\"Time Series (Daily).2022-12-22.`4. close`\"))\n",
    "\n",
    "add_company_col =clean_data.withColumn(\"company_name\", lit(symbol)) \\\n",
    "\n",
    "ibm_com_df = add_company_col.toDF(\"open\",\"high\",\"low\",\"close\",\"company_name\")\n",
    "ibm_com_df.show()"
   ]
  },
  {
   "cell_type": "code",
   "execution_count": 8,
   "metadata": {},
   "outputs": [
    {
     "name": "stdout",
     "output_type": "stream",
     "text": [
      "root\n",
      " |-- open: string (nullable = true)\n",
      " |-- high: string (nullable = true)\n",
      " |-- low: string (nullable = true)\n",
      " |-- close: string (nullable = true)\n",
      " |-- company_name: string (nullable = false)\n",
      "\n",
      "+------+------+------+------+------------+\n",
      "|  open|  high|   low| close|company_name|\n",
      "+------+------+------+------+------------+\n",
      "| 85.52| 85.68| 82.25| 83.79|        AMZN|\n",
      "|16.675| 16.98| 16.29| 16.94|        PARA|\n",
      "|  10.5|11.565|10.195| 10.86|        PNBK|\n",
      "| 18.04| 18.08|17.725| 17.93|        INFY|\n",
      "|140.95|141.44|138.62|140.88|         IBM|\n",
      "+------+------+------+------+------------+\n",
      "\n"
     ]
    }
   ],
   "source": [
    "union1 = amzn_com_df.union(para_com_df)\n",
    "union2 = union1.union(pnbk_com_df)\n",
    "union3 = union2.union(info_com_df)\n",
    "union4 = union3.union(ibm_com_df)\n",
    "final_df = union4\n",
    "final_df.printSchema()\n",
    "final_df.show()"
   ]
  }
 ],
 "metadata": {
  "kernelspec": {
   "display_name": "Python 3.8.10 64-bit",
   "language": "python",
   "name": "python3"
  },
  "language_info": {
   "codemirror_mode": {
    "name": "ipython",
    "version": 3
   },
   "file_extension": ".py",
   "mimetype": "text/x-python",
   "name": "python",
   "nbconvert_exporter": "python",
   "pygments_lexer": "ipython3",
   "version": "3.8.10"
  },
  "orig_nbformat": 4,
  "vscode": {
   "interpreter": {
    "hash": "31f2aee4e71d21fbe5cf8b01ff0e069b9275f58929596ceb00d14d90e3e16cd6"
   }
  }
 },
 "nbformat": 4,
 "nbformat_minor": 2
}
